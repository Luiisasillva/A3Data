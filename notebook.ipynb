{
 "cells": [
  {
   "cell_type": "markdown",
   "id": "5d81c0c6-8c23-4a3a-8d82-cb4a658899c2",
   "metadata": {
    "tags": []
   },
   "source": [
    "### Extraindo o arquivo .zip"
   ]
  },
  {
   "cell_type": "code",
   "execution_count": 1,
   "id": "39e17a3d-3f69-4524-96aa-14862b1cec7b",
   "metadata": {
    "tags": []
   },
   "outputs": [],
   "source": [
    "import requests\n",
    "import zipfile"
   ]
  },
  {
   "cell_type": "code",
   "execution_count": 2,
   "id": "b9214d36-a7c3-4a3a-8c9b-8b352c0b3b67",
   "metadata": {
    "tags": []
   },
   "outputs": [],
   "source": [
    "url = \"https://download.inep.gov.br/microdados/microdados_censo_da_educacao_superior_2021.zip\""
   ]
  },
  {
   "cell_type": "code",
   "execution_count": 3,
   "id": "9cb13b24-3436-4282-ae06-a4db69c92fa7",
   "metadata": {
    "tags": []
   },
   "outputs": [
    {
     "name": "stderr",
     "output_type": "stream",
     "text": [
      "/opt/conda/lib/python3.10/site-packages/urllib3/connectionpool.py:1045: InsecureRequestWarning: Unverified HTTPS request is being made to host 'download.inep.gov.br'. Adding certificate verification is strongly advised. See: https://urllib3.readthedocs.io/en/1.26.x/advanced-usage.html#ssl-warnings\n",
      "  warnings.warn(\n"
     ]
    }
   ],
   "source": [
    "r=requests.get(url, verify=False)"
   ]
  },
  {
   "cell_type": "code",
   "execution_count": 5,
   "id": "5577069a-a67f-4d76-9940-922a4a5340ef",
   "metadata": {
    "tags": []
   },
   "outputs": [],
   "source": [
    "with open(\"r.zip\",\"wb\") as f:\n",
    "    f.write(r.content)"
   ]
  },
  {
   "cell_type": "code",
   "execution_count": 9,
   "id": "2726091a-9cd5-4f0c-9693-19253cc73f83",
   "metadata": {
    "tags": []
   },
   "outputs": [],
   "source": [
    "with zipfile.ZipFile(\"r.zip\",\"r\") as zip_ref:\n",
    "    zip_ref.extractall(\"./data\")"
   ]
  },
  {
   "cell_type": "markdown",
   "id": "0ef8c31c-1900-436e-a545-e42173ea1bb3",
   "metadata": {},
   "source": [
    "### import sparkssesion"
   ]
  },
  {
   "cell_type": "code",
   "execution_count": 23,
   "id": "2ad0e683-37a7-47df-8940-4a6ebc97c2a9",
   "metadata": {
    "tags": []
   },
   "outputs": [],
   "source": [
    "from pyspark.sql import SparkSession"
   ]
  },
  {
   "cell_type": "code",
   "execution_count": 24,
   "id": "9d49d43a-5503-40d2-a324-0ec1cf97faee",
   "metadata": {
    "tags": []
   },
   "outputs": [],
   "source": [
    "spark = SparkSession \\\n",
    ".builder \\\n",
    ".config(\"spark.sql.repl.eagerEval.enabled\", \"True\") \\\n",
    ".config(\"spark.sql.repl.eagerEval.maxNumRows\", \"10\") \\\n",
    ".getOrCreate()"
   ]
  },
  {
   "cell_type": "code",
   "execution_count": 27,
   "id": "5a496888-fa38-4c9f-9b4a-3fae7b2f140a",
   "metadata": {
    "tags": []
   },
   "outputs": [],
   "source": [
    "df = spark.read.csv(\"data/Microdados do Censo da Educaç╞o Superior 2021/dados/MICRODADOS_CADASTRO_IES_2021.CSV\", sep=';', header=True, inferSchema=True)"
   ]
  },
  {
   "cell_type": "code",
   "execution_count": 28,
   "id": "f47b12ce-fbcc-42aa-9d24-de880cfaafe1",
   "metadata": {
    "tags": []
   },
   "outputs": [],
   "source": [
    "for col in df.columns:\n",
    "    df = df.withColumnRenamed(col, col.lower())"
   ]
  },
  {
   "cell_type": "code",
   "execution_count": 29,
   "id": "fde6f6ef-4e05-463b-876c-d8a34ee76ac4",
   "metadata": {
    "tags": []
   },
   "outputs": [],
   "source": [
    "df.createOrReplaceTempView('df')"
   ]
  },
  {
   "cell_type": "markdown",
   "id": "dc3c05f7-8e2b-4b9c-8d64-5f61250f98d5",
   "metadata": {},
   "source": [
    "### CSV para PARQUET"
   ]
  },
  {
   "cell_type": "code",
   "execution_count": 30,
   "id": "932c86cd-cd9c-4cd5-98b1-a404460dce86",
   "metadata": {
    "tags": []
   },
   "outputs": [],
   "source": [
    "df.write.parquet(\"MICRODADOS_IES_CONSULTA.parquet\")\n"
   ]
  },
  {
   "cell_type": "code",
   "execution_count": 31,
   "id": "ead92ef2-d525-4afd-b393-d0f1fcc7122f",
   "metadata": {
    "tags": []
   },
   "outputs": [],
   "source": [
    "parquet_df = spark.read.parquet(\"MICRODADOS_IES_CONSULTA.parquet\")"
   ]
  },
  {
   "cell_type": "code",
   "execution_count": 32,
   "id": "cb4b5b54-4a81-4cf9-91ae-c215731b0f8a",
   "metadata": {
    "tags": []
   },
   "outputs": [],
   "source": [
    "parquet_df.createOrReplaceTempView(\"parquet_df\")"
   ]
  },
  {
   "cell_type": "markdown",
   "id": "13f4ca07-97ae-485e-b119-cec4d117375a",
   "metadata": {},
   "source": [
    "### Consultas\n"
   ]
  },
  {
   "cell_type": "markdown",
   "id": "8609e2f2-df9a-442d-9d97-897b25b40db3",
   "metadata": {},
   "source": [
    "### Olhando para o estado de Minas Gerais, quantos municípios têm informações presentes na base de dados?\n"
   ]
  },
  {
   "cell_type": "code",
   "execution_count": 41,
   "id": "acaf356f-64c0-4e02-93c0-3684c3a77244",
   "metadata": {
    "tags": []
   },
   "outputs": [
    {
     "name": "stdout",
     "output_type": "stream",
     "text": [
      "+--------------------------------+\n",
      "|count(DISTINCT no_municipio_ies)|\n",
      "+--------------------------------+\n",
      "|                             104|\n",
      "+--------------------------------+\n",
      "\n"
     ]
    }
   ],
   "source": [
    "a1 = spark.sql(\"\"\"\n",
    "select COUNT(DISTINCT no_municipio_ies) from parquet_df\n",
    "where sg_uf_ies = 'MG'\n",
    "\"\"\")\n",
    "a1.show()\n"
   ]
  },
  {
   "cell_type": "markdown",
   "id": "eea9bb88-3299-4fa6-82e9-770d97f96fc6",
   "metadata": {
    "tags": []
   },
   "source": [
    "### Quantos professores doutores existem em cada cidade de Minas Gerais presente na base de dados"
   ]
  },
  {
   "cell_type": "code",
   "execution_count": 42,
   "id": "12bac245-9771-4142-aaf0-5360ecdacb0d",
   "metadata": {
    "tags": []
   },
   "outputs": [
    {
     "name": "stdout",
     "output_type": "stream",
     "text": [
      "+--------------------+------------+\n",
      "|           municipio|Qtd_Doutores|\n",
      "+--------------------+------------+\n",
      "|      Belo Horizonte|        6615|\n",
      "|          Uberl�ndia|        1939|\n",
      "|        Juiz de Fora|        1915|\n",
      "|              Vi�osa|        1185|\n",
      "|       Montes Claros|         925|\n",
      "|             Uberaba|         891|\n",
      "|              Lavras|         812|\n",
      "|    S�o Jo�o del Rei|         753|\n",
      "|          Ouro Preto|         746|\n",
      "|          Diamantina|         673|\n",
      "|             Alfenas|         661|\n",
      "|        Pouso Alegre|         499|\n",
      "|             Itajub�|         304|\n",
      "|            Contagem|         219|\n",
      "|         Sete Lagoas|         201|\n",
      "|               Betim|         192|\n",
      "|         Divin�polis|         133|\n",
      "|        Bom Despacho|         129|\n",
      "|Governador Valadares|         110|\n",
      "|            Ipatinga|         107|\n",
      "+--------------------+------------+\n",
      "only showing top 20 rows\n",
      "\n"
     ]
    }
   ],
   "source": [
    "a2 = spark.sql(\"\"\"SELECT no_municipio_ies as municipio, sum(qt_doc_ex_dout) as Qtd_Doutores from parquet_df WHERE no_uf_ies = 'Minas Gerais' \n",
    "          group by no_municipio_ies order by Qtd_Doutores DESC\"\"\")\n",
    "a2.show()\n"
   ]
  },
  {
   "cell_type": "markdown",
   "id": "ba11523e-ec3a-4d1c-bb91-2deb58a59c76",
   "metadata": {},
   "source": [
    "### Qual a quantidade de docentes com deficiência no estado do Paraná?"
   ]
  },
  {
   "cell_type": "code",
   "execution_count": 43,
   "id": "c3a7be73-7f57-4812-9b0d-f469156685d1",
   "metadata": {
    "tags": []
   },
   "outputs": [
    {
     "name": "stdout",
     "output_type": "stream",
     "text": [
      "+--------------------+--------------+\n",
      "|    no_municipio_ies|qt_doc_ex_dout|\n",
      "+--------------------+--------------+\n",
      "|          Ouro Preto|           746|\n",
      "|              Vi�osa|          1123|\n",
      "|          Uberl�ndia|          1702|\n",
      "|       Tr�s Cora��es|            45|\n",
      "|             Alfenas|           162|\n",
      "|Conselheiro Lafaiete|            12|\n",
      "|    S�o Jo�o del Rei|           722|\n",
      "|Santa Rita do Sap...|            21|\n",
      "|             Uberaba|             0|\n",
      "|            Varginha|             1|\n",
      "|          Uberl�ndia|            36|\n",
      "|             Uberaba|           142|\n",
      "|Santa Rita do Sap...|            10|\n",
      "|        Pouso Alegre|            12|\n",
      "|      Belo Horizonte|             0|\n",
      "|      Belo Horizonte|            11|\n",
      "|             Itajub�|            20|\n",
      "|Governador Valadares|             8|\n",
      "|           Barbacena|            23|\n",
      "|           Barbacena|            45|\n",
      "+--------------------+--------------+\n",
      "only showing top 20 rows\n",
      "\n"
     ]
    }
   ],
   "source": [
    "a3 = spark.sql(\"SELECT no_municipio_ies, qt_doc_ex_dout FROM parquet_df WHERE sg_uf_ies = 'MG' \")\n",
    "a3.show()\n"
   ]
  },
  {
   "cell_type": "code",
   "execution_count": null,
   "id": "02824e63-1800-45a3-bbba-9f481c14532d",
   "metadata": {},
   "outputs": [],
   "source": []
  },
  {
   "cell_type": "code",
   "execution_count": null,
   "id": "272ec687-3a7b-42d6-b152-a57db1f2325b",
   "metadata": {},
   "outputs": [],
   "source": []
  }
 ],
 "metadata": {
  "kernelspec": {
   "display_name": "Python 3 (ipykernel)",
   "language": "python",
   "name": "python3"
  },
  "language_info": {
   "codemirror_mode": {
    "name": "ipython",
    "version": 3
   },
   "file_extension": ".py",
   "mimetype": "text/x-python",
   "name": "python",
   "nbconvert_exporter": "python",
   "pygments_lexer": "ipython3",
   "version": "3.10.10"
  }
 },
 "nbformat": 4,
 "nbformat_minor": 5
}
